{
 "cells": [
  {
   "cell_type": "code",
   "execution_count": 1,
   "id": "5ed89011",
   "metadata": {},
   "outputs": [],
   "source": [
    "import numpy as np\n",
    "import pandas as pd"
   ]
  },
  {
   "cell_type": "code",
   "execution_count": 98,
   "id": "880fd2a3",
   "metadata": {},
   "outputs": [],
   "source": [
    "raw = pd.read_csv('attribution_allocation_student_data.csv')"
   ]
  },
  {
   "cell_type": "code",
   "execution_count": 11,
   "id": "3f0fee99",
   "metadata": {},
   "outputs": [],
   "source": [
    "tier1 = {'email': 1000.0, 'social': 1000.0000000000001, 'display': 1000.0, 'paid_search': 999.9999999999999, 'referral': 1000.0, 'organic_search': 0.0, 'direct': 0.0}\n",
    "tier2 = {'email': 2000.0, 'social': 2000.0, 'display': 2000.0, 'paid_search': 2000.0, 'referral': 2000.0, 'organic_search': 0.0, 'direct': 0.0}\n",
    "tier3 = {'email': 3000.0, 'social': 3000.0, 'display': 3000.0, 'paid_search': 3000.0, 'referral': 3000.0, 'organic_search': 0.0, 'direct': 0.0}"
   ]
  },
  {
   "cell_type": "code",
   "execution_count": 99,
   "id": "85b6d73f",
   "metadata": {},
   "outputs": [],
   "source": [
    "raw.fillna(value='empty',inplace=True)\n",
    "raw['channel'] = raw['touch1'] + ' ' + raw['touch2'] + ' ' + raw['touch3'] + ' ' + raw['touch4'] + ' ' + raw['touch5']\n",
    "raw['channel_list'] = raw['channel'].apply(lambda x: str(x).replace('empty','').strip(' ').split(' '))\n",
    "raw.drop(columns=['channel'],inplace=True)"
   ]
  },
  {
   "cell_type": "code",
   "execution_count": 109,
   "id": "d119dbc0",
   "metadata": {},
   "outputs": [],
   "source": [
    "raw['length'] = raw['channel_list'].apply(lambda x:len(x))"
   ]
  },
  {
   "cell_type": "code",
   "execution_count": 110,
   "id": "8c0827e4",
   "metadata": {},
   "outputs": [
    {
     "data": {
      "text/html": [
       "<div>\n",
       "<style scoped>\n",
       "    .dataframe tbody tr th:only-of-type {\n",
       "        vertical-align: middle;\n",
       "    }\n",
       "\n",
       "    .dataframe tbody tr th {\n",
       "        vertical-align: top;\n",
       "    }\n",
       "\n",
       "    .dataframe thead th {\n",
       "        text-align: right;\n",
       "    }\n",
       "</style>\n",
       "<table border=\"1\" class=\"dataframe\">\n",
       "  <thead>\n",
       "    <tr style=\"text-align: right;\">\n",
       "      <th></th>\n",
       "      <th>convert_TF</th>\n",
       "      <th>touch1</th>\n",
       "      <th>touch2</th>\n",
       "      <th>touch3</th>\n",
       "      <th>touch4</th>\n",
       "      <th>touch5</th>\n",
       "      <th>tier</th>\n",
       "      <th>channel_list</th>\n",
       "      <th>length</th>\n",
       "    </tr>\n",
       "  </thead>\n",
       "  <tbody>\n",
       "    <tr>\n",
       "      <th>0</th>\n",
       "      <td>True</td>\n",
       "      <td>referral</td>\n",
       "      <td>referral</td>\n",
       "      <td>referral</td>\n",
       "      <td>email</td>\n",
       "      <td>empty</td>\n",
       "      <td>1</td>\n",
       "      <td>[referral, referral, referral, email]</td>\n",
       "      <td>4</td>\n",
       "    </tr>\n",
       "    <tr>\n",
       "      <th>1</th>\n",
       "      <td>True</td>\n",
       "      <td>referral</td>\n",
       "      <td>display</td>\n",
       "      <td>display</td>\n",
       "      <td>email</td>\n",
       "      <td>empty</td>\n",
       "      <td>1</td>\n",
       "      <td>[referral, display, display, email]</td>\n",
       "      <td>4</td>\n",
       "    </tr>\n",
       "    <tr>\n",
       "      <th>2</th>\n",
       "      <td>True</td>\n",
       "      <td>email</td>\n",
       "      <td>display</td>\n",
       "      <td>referral</td>\n",
       "      <td>empty</td>\n",
       "      <td>empty</td>\n",
       "      <td>1</td>\n",
       "      <td>[email, display, referral]</td>\n",
       "      <td>3</td>\n",
       "    </tr>\n",
       "    <tr>\n",
       "      <th>3</th>\n",
       "      <td>True</td>\n",
       "      <td>referral</td>\n",
       "      <td>referral</td>\n",
       "      <td>email</td>\n",
       "      <td>empty</td>\n",
       "      <td>empty</td>\n",
       "      <td>1</td>\n",
       "      <td>[referral, referral, email]</td>\n",
       "      <td>3</td>\n",
       "    </tr>\n",
       "    <tr>\n",
       "      <th>4</th>\n",
       "      <td>True</td>\n",
       "      <td>social</td>\n",
       "      <td>referral</td>\n",
       "      <td>empty</td>\n",
       "      <td>empty</td>\n",
       "      <td>empty</td>\n",
       "      <td>1</td>\n",
       "      <td>[social, referral]</td>\n",
       "      <td>2</td>\n",
       "    </tr>\n",
       "    <tr>\n",
       "      <th>...</th>\n",
       "      <td>...</td>\n",
       "      <td>...</td>\n",
       "      <td>...</td>\n",
       "      <td>...</td>\n",
       "      <td>...</td>\n",
       "      <td>...</td>\n",
       "      <td>...</td>\n",
       "      <td>...</td>\n",
       "      <td>...</td>\n",
       "    </tr>\n",
       "    <tr>\n",
       "      <th>68119</th>\n",
       "      <td>False</td>\n",
       "      <td>social</td>\n",
       "      <td>display</td>\n",
       "      <td>direct</td>\n",
       "      <td>empty</td>\n",
       "      <td>empty</td>\n",
       "      <td>3</td>\n",
       "      <td>[social, display, direct]</td>\n",
       "      <td>3</td>\n",
       "    </tr>\n",
       "    <tr>\n",
       "      <th>68120</th>\n",
       "      <td>False</td>\n",
       "      <td>referral</td>\n",
       "      <td>referral</td>\n",
       "      <td>referral</td>\n",
       "      <td>referral</td>\n",
       "      <td>direct</td>\n",
       "      <td>3</td>\n",
       "      <td>[referral, referral, referral, referral, direct]</td>\n",
       "      <td>5</td>\n",
       "    </tr>\n",
       "    <tr>\n",
       "      <th>68121</th>\n",
       "      <td>False</td>\n",
       "      <td>display</td>\n",
       "      <td>referral</td>\n",
       "      <td>social</td>\n",
       "      <td>direct</td>\n",
       "      <td>empty</td>\n",
       "      <td>3</td>\n",
       "      <td>[display, referral, social, direct]</td>\n",
       "      <td>4</td>\n",
       "    </tr>\n",
       "    <tr>\n",
       "      <th>68122</th>\n",
       "      <td>False</td>\n",
       "      <td>email</td>\n",
       "      <td>email</td>\n",
       "      <td>social</td>\n",
       "      <td>direct</td>\n",
       "      <td>empty</td>\n",
       "      <td>3</td>\n",
       "      <td>[email, email, social, direct]</td>\n",
       "      <td>4</td>\n",
       "    </tr>\n",
       "    <tr>\n",
       "      <th>68123</th>\n",
       "      <td>False</td>\n",
       "      <td>display</td>\n",
       "      <td>social</td>\n",
       "      <td>direct</td>\n",
       "      <td>empty</td>\n",
       "      <td>empty</td>\n",
       "      <td>3</td>\n",
       "      <td>[display, social, direct]</td>\n",
       "      <td>3</td>\n",
       "    </tr>\n",
       "  </tbody>\n",
       "</table>\n",
       "<p>68124 rows × 9 columns</p>\n",
       "</div>"
      ],
      "text/plain": [
       "       convert_TF    touch1    touch2    touch3    touch4  touch5  tier  \\\n",
       "0            True  referral  referral  referral     email   empty     1   \n",
       "1            True  referral   display   display     email   empty     1   \n",
       "2            True     email   display  referral     empty   empty     1   \n",
       "3            True  referral  referral     email     empty   empty     1   \n",
       "4            True    social  referral     empty     empty   empty     1   \n",
       "...           ...       ...       ...       ...       ...     ...   ...   \n",
       "68119       False    social   display    direct     empty   empty     3   \n",
       "68120       False  referral  referral  referral  referral  direct     3   \n",
       "68121       False   display  referral    social    direct   empty     3   \n",
       "68122       False     email     email    social    direct   empty     3   \n",
       "68123       False   display    social    direct     empty   empty     3   \n",
       "\n",
       "                                           channel_list  length  \n",
       "0                 [referral, referral, referral, email]       4  \n",
       "1                   [referral, display, display, email]       4  \n",
       "2                            [email, display, referral]       3  \n",
       "3                           [referral, referral, email]       3  \n",
       "4                                    [social, referral]       2  \n",
       "...                                                 ...     ...  \n",
       "68119                         [social, display, direct]       3  \n",
       "68120  [referral, referral, referral, referral, direct]       5  \n",
       "68121               [display, referral, social, direct]       4  \n",
       "68122                    [email, email, social, direct]       4  \n",
       "68123                         [display, social, direct]       3  \n",
       "\n",
       "[68124 rows x 9 columns]"
      ]
     },
     "execution_count": 110,
     "metadata": {},
     "output_type": "execute_result"
    }
   ],
   "source": [
    "raw"
   ]
  },
  {
   "cell_type": "code",
   "execution_count": 111,
   "id": "58b43988",
   "metadata": {},
   "outputs": [],
   "source": [
    "raw_true = raw[raw.convert_TF==True]"
   ]
  },
  {
   "cell_type": "markdown",
   "id": "4c6f1c05",
   "metadata": {},
   "source": [
    "# Part A"
   ]
  },
  {
   "cell_type": "markdown",
   "id": "ec7fb676",
   "metadata": {},
   "source": [
    "# First interaction"
   ]
  },
  {
   "cell_type": "code",
   "execution_count": 141,
   "id": "ca68ba03",
   "metadata": {},
   "outputs": [
    {
     "data": {
      "text/plain": [
       "{'referral': 7495,\n",
       " 'social': 2280,\n",
       " 'display': 2031,\n",
       " 'email': 1284,\n",
       " 'paid_search': 668,\n",
       " 'organic_search': 15,\n",
       " 'direct': 6}"
      ]
     },
     "execution_count": 141,
     "metadata": {},
     "output_type": "execute_result"
    }
   ],
   "source": [
    "first = dict(raw_true['touch1'].value_counts())\n",
    "first"
   ]
  },
  {
   "cell_type": "code",
   "execution_count": 104,
   "id": "f96a9e8a",
   "metadata": {},
   "outputs": [],
   "source": [
    "cost = {}\n",
    "for f in first:\n",
    "    cost[f] = tier1[f] + tier2[f] + tier3[f]\n",
    "def CAC(d):\n",
    "    CAC = {}\n",
    "    for f in cost:\n",
    "        CAC[f] = cost[f]/d[f]\n",
    "    return CAC"
   ]
  },
  {
   "cell_type": "code",
   "execution_count": 107,
   "id": "d3cd9f68",
   "metadata": {},
   "outputs": [
    {
     "data": {
      "text/plain": [
       "{'referral': 0.800533689126084,\n",
       " 'social': 2.6315789473684212,\n",
       " 'display': 2.9542097488921715,\n",
       " 'email': 4.672897196261682,\n",
       " 'paid_search': 8.982035928143713,\n",
       " 'organic_search': 0.0,\n",
       " 'direct': 0.0}"
      ]
     },
     "execution_count": 107,
     "metadata": {},
     "output_type": "execute_result"
    }
   ],
   "source": [
    "CAC_first = CAC(first)\n",
    "CAC_first"
   ]
  },
  {
   "cell_type": "markdown",
   "id": "8af142df",
   "metadata": {},
   "source": [
    "# Last non-direct interaction"
   ]
  },
  {
   "cell_type": "code",
   "execution_count": 188,
   "id": "7e99d054",
   "metadata": {},
   "outputs": [],
   "source": [
    "raw_true_lnd = raw_true.copy()\n",
    "raw_true_lnd = raw_true_lnd.drop(index=(raw_true_lnd.loc[(raw_true_lnd['touch1']== 'direct') & \n",
    "                                         (raw_true_lnd['touch2']== 'empty')].index))"
   ]
  },
  {
   "cell_type": "code",
   "execution_count": 192,
   "id": "e60b0bf0",
   "metadata": {},
   "outputs": [],
   "source": [
    "last_nd = []\n",
    "for i in raw_true_lnd.channel_list:\n",
    "    if i[-1]=='direct':\n",
    "        last_nd.append(i[-2])\n",
    "    else:\n",
    "        last_nd.append(i[-1])"
   ]
  },
  {
   "cell_type": "code",
   "execution_count": 203,
   "id": "5c9cb644",
   "metadata": {},
   "outputs": [],
   "source": [
    "last_non_direct = dict(pd.DataFrame(last_nd)[0].value_counts())\n",
    "last_non_direct['direct'] = 0.0000001"
   ]
  },
  {
   "cell_type": "code",
   "execution_count": 205,
   "id": "70517690",
   "metadata": {},
   "outputs": [
    {
     "data": {
      "text/plain": [
       "{'referral': 0.9971746717633372,\n",
       " 'social': 2.026342451874367,\n",
       " 'display': 2.6166593981683386,\n",
       " 'email': 4.021447721179625,\n",
       " 'paid_search': 5.9760956175298805,\n",
       " 'organic_search': 0.0,\n",
       " 'direct': 0.0}"
      ]
     },
     "execution_count": 205,
     "metadata": {},
     "output_type": "execute_result"
    }
   ],
   "source": [
    "CAC_last_nd = CAC(last_non_direct)\n",
    "CAC_last_nd"
   ]
  },
  {
   "cell_type": "markdown",
   "id": "38057672",
   "metadata": {},
   "source": [
    "# Last"
   ]
  },
  {
   "cell_type": "code",
   "execution_count": 208,
   "id": "5ad85c71",
   "metadata": {},
   "outputs": [],
   "source": [
    "last = []\n",
    "for i in raw_true.channel_list:\n",
    "    last.append(i[-1])\n",
    "last = dict(pd.DataFrame(last)[0].value_counts())"
   ]
  },
  {
   "cell_type": "code",
   "execution_count": 140,
   "id": "7adcb59b",
   "metadata": {},
   "outputs": [
    {
     "data": {
      "text/plain": [
       "{'referral': 0.9976720984369803,\n",
       " 'social': 2.027027027027027,\n",
       " 'display': 2.6178010471204187,\n",
       " 'email': 4.0241448692152915,\n",
       " 'paid_search': 5.9760956175298805,\n",
       " 'organic_search': 0.0,\n",
       " 'direct': 0.0}"
      ]
     },
     "execution_count": 140,
     "metadata": {},
     "output_type": "execute_result"
    }
   ],
   "source": [
    "CAC_last = CAC(last)\n",
    "CAC_last"
   ]
  },
  {
   "cell_type": "markdown",
   "id": "234b80d4",
   "metadata": {},
   "source": [
    "# Linear"
   ]
  },
  {
   "cell_type": "code",
   "execution_count": 174,
   "id": "4a81396d",
   "metadata": {},
   "outputs": [],
   "source": [
    "linear = []\n",
    "for i in range(raw_true.shape[0]):\n",
    "    d = {'referral': 0,'social': 0,'display': 0,'email': 0,'paid_search': 0,'organic_search': 0,'direct': 0}\n",
    "    l = raw_true.iloc[i,7]\n",
    "    for j in l:\n",
    "        d[j] = d[j] + 1/raw_true.iloc[i,8]\n",
    "    linear.append(d)"
   ]
  },
  {
   "cell_type": "code",
   "execution_count": 179,
   "id": "a1a386b9",
   "metadata": {},
   "outputs": [],
   "source": [
    "linear_d = {'referral': 0,'social': 0,'display': 0,'email': 0,'paid_search': 0,'organic_search': 0,'direct': 0}\n",
    "for i in linear:\n",
    "    for j in i:\n",
    "        linear_d[j] = linear_d[j] + i[j]"
   ]
  },
  {
   "cell_type": "code",
   "execution_count": 181,
   "id": "22fd111c",
   "metadata": {},
   "outputs": [
    {
     "data": {
      "text/plain": [
       "{'referral': 0.8038764709822777,\n",
       " 'social': 2.6062216301916323,\n",
       " 'display': 2.985866896689043,\n",
       " 'email': 4.7055132930750325,\n",
       " 'paid_search': 8.512248179324644,\n",
       " 'organic_search': 0.0,\n",
       " 'direct': 0.0}"
      ]
     },
     "execution_count": 181,
     "metadata": {},
     "output_type": "execute_result"
    }
   ],
   "source": [
    "CAC_linear = CAC(linear_d)\n",
    "CAC_linear"
   ]
  },
  {
   "cell_type": "markdown",
   "id": "5fe638eb",
   "metadata": {},
   "source": [
    "# Comparison"
   ]
  },
  {
   "cell_type": "code",
   "execution_count": 182,
   "id": "897857a6",
   "metadata": {},
   "outputs": [
    {
     "data": {
      "text/plain": [
       "{'referral': 0.800533689126084,\n",
       " 'social': 2.6315789473684212,\n",
       " 'display': 2.9542097488921715,\n",
       " 'email': 4.672897196261682,\n",
       " 'paid_search': 8.982035928143713,\n",
       " 'organic_search': 0.0,\n",
       " 'direct': 0.0}"
      ]
     },
     "execution_count": 182,
     "metadata": {},
     "output_type": "execute_result"
    }
   ],
   "source": [
    "CAC_first"
   ]
  },
  {
   "cell_type": "code",
   "execution_count": 183,
   "id": "f6ee6372",
   "metadata": {},
   "outputs": [
    {
     "data": {
      "text/plain": [
       "{'referral': 0.9976720984369803,\n",
       " 'social': 2.027027027027027,\n",
       " 'display': 2.6178010471204187,\n",
       " 'email': 4.0241448692152915,\n",
       " 'paid_search': 5.9760956175298805,\n",
       " 'organic_search': 0.0,\n",
       " 'direct': 0.0}"
      ]
     },
     "execution_count": 183,
     "metadata": {},
     "output_type": "execute_result"
    }
   ],
   "source": [
    "CAC_last"
   ]
  },
  {
   "cell_type": "code",
   "execution_count": 207,
   "id": "2a813f49",
   "metadata": {},
   "outputs": [
    {
     "data": {
      "text/plain": [
       "{'referral': 0.9971746717633372,\n",
       " 'social': 2.026342451874367,\n",
       " 'display': 2.6166593981683386,\n",
       " 'email': 4.021447721179625,\n",
       " 'paid_search': 5.9760956175298805,\n",
       " 'organic_search': 0.0,\n",
       " 'direct': 0.0}"
      ]
     },
     "execution_count": 207,
     "metadata": {},
     "output_type": "execute_result"
    }
   ],
   "source": [
    "CAC_last_nd"
   ]
  },
  {
   "cell_type": "code",
   "execution_count": 206,
   "id": "6b8f346e",
   "metadata": {},
   "outputs": [
    {
     "data": {
      "text/plain": [
       "{'referral': 0.8038764709822777,\n",
       " 'social': 2.6062216301916323,\n",
       " 'display': 2.985866896689043,\n",
       " 'email': 4.7055132930750325,\n",
       " 'paid_search': 8.512248179324644,\n",
       " 'organic_search': 0.0,\n",
       " 'direct': 0.0}"
      ]
     },
     "execution_count": 206,
     "metadata": {},
     "output_type": "execute_result"
    }
   ],
   "source": [
    "CAC_linear"
   ]
  },
  {
   "cell_type": "code",
   "execution_count": null,
   "id": "3e9dff91",
   "metadata": {},
   "outputs": [],
   "source": []
  },
  {
   "cell_type": "code",
   "execution_count": null,
   "id": "549378c2",
   "metadata": {},
   "outputs": [],
   "source": []
  },
  {
   "cell_type": "code",
   "execution_count": null,
   "id": "900f5f6b",
   "metadata": {},
   "outputs": [],
   "source": []
  },
  {
   "cell_type": "code",
   "execution_count": null,
   "id": "6dd299fb",
   "metadata": {},
   "outputs": [],
   "source": []
  }
 ],
 "metadata": {
  "kernelspec": {
   "display_name": "Python 3",
   "language": "python",
   "name": "python3"
  },
  "language_info": {
   "codemirror_mode": {
    "name": "ipython",
    "version": 3
   },
   "file_extension": ".py",
   "mimetype": "text/x-python",
   "name": "python",
   "nbconvert_exporter": "python",
   "pygments_lexer": "ipython3",
   "version": "3.8.8"
  }
 },
 "nbformat": 4,
 "nbformat_minor": 5
}
