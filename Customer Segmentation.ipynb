{
 "cells": [
  {
   "cell_type": "code",
   "execution_count": 60,
   "metadata": {},
   "outputs": [],
   "source": [
    "import pandas as pd\n",
    "import numpy as np\n",
    "from sklearn.cluster import KMeans\n",
    "from matplotlib import pyplot\n",
    "from sklearn.preprocessing import OneHotEncoder\n",
    "from sklearn.model_selection import train_test_split\n",
    "from sklearn.preprocessing import MinMaxScaler\n",
    "import matplotlib.pyplot as plt"
   ]
  },
  {
   "cell_type": "code",
   "execution_count": 61,
   "metadata": {},
   "outputs": [],
   "source": [
    "data = pd.read_csv('transactions_n100000.csv')"
   ]
  },
  {
   "cell_type": "code",
   "execution_count": 62,
   "metadata": {},
   "outputs": [],
   "source": [
    "data2 = data[['ticket_id','item_name','item_count']]"
   ]
  },
  {
   "cell_type": "code",
   "execution_count": 63,
   "metadata": {},
   "outputs": [],
   "source": [
    "data_pivot = pd.pivot_table(data2,index=['ticket_id'],columns=['item_name'],values=['item_count'],aggfunc=[np.sum],\n",
    "                            fill_value=0,margins=1)"
   ]
  },
  {
   "cell_type": "code",
   "execution_count": 64,
   "metadata": {},
   "outputs": [],
   "source": [
    "pivot = pd.DataFrame({'burger':data_pivot['sum','item_count','burger'],\n",
    "                      'fries':data_pivot['sum','item_count','fries'],\n",
    "                      'salad':data_pivot['sum','item_count','salad'],\n",
    "                      'shake':data_pivot['sum','item_count','shake']})\n",
    "pivot.drop(['All'],inplace=True)"
   ]
  },
  {
   "cell_type": "code",
   "execution_count": 40,
   "metadata": {},
   "outputs": [
    {
     "data": {
      "text/html": [
       "<div>\n",
       "<style scoped>\n",
       "    .dataframe tbody tr th:only-of-type {\n",
       "        vertical-align: middle;\n",
       "    }\n",
       "\n",
       "    .dataframe tbody tr th {\n",
       "        vertical-align: top;\n",
       "    }\n",
       "\n",
       "    .dataframe thead th {\n",
       "        text-align: right;\n",
       "    }\n",
       "</style>\n",
       "<table border=\"1\" class=\"dataframe\">\n",
       "  <thead>\n",
       "    <tr style=\"text-align: right;\">\n",
       "      <th></th>\n",
       "      <th>burger</th>\n",
       "      <th>fries</th>\n",
       "      <th>salad</th>\n",
       "      <th>shake</th>\n",
       "    </tr>\n",
       "    <tr>\n",
       "      <th>ticket_id</th>\n",
       "      <th></th>\n",
       "      <th></th>\n",
       "      <th></th>\n",
       "      <th></th>\n",
       "    </tr>\n",
       "  </thead>\n",
       "  <tbody>\n",
       "    <tr>\n",
       "      <th>0x100048</th>\n",
       "      <td>0</td>\n",
       "      <td>3</td>\n",
       "      <td>3</td>\n",
       "      <td>0</td>\n",
       "    </tr>\n",
       "    <tr>\n",
       "      <th>0x100057</th>\n",
       "      <td>1</td>\n",
       "      <td>1</td>\n",
       "      <td>0</td>\n",
       "      <td>0</td>\n",
       "    </tr>\n",
       "    <tr>\n",
       "      <th>0x1000ba</th>\n",
       "      <td>1</td>\n",
       "      <td>2</td>\n",
       "      <td>1</td>\n",
       "      <td>1</td>\n",
       "    </tr>\n",
       "    <tr>\n",
       "      <th>0x1000fb</th>\n",
       "      <td>4</td>\n",
       "      <td>5</td>\n",
       "      <td>1</td>\n",
       "      <td>4</td>\n",
       "    </tr>\n",
       "    <tr>\n",
       "      <th>0x10016e</th>\n",
       "      <td>3</td>\n",
       "      <td>3</td>\n",
       "      <td>0</td>\n",
       "      <td>3</td>\n",
       "    </tr>\n",
       "    <tr>\n",
       "      <th>...</th>\n",
       "      <td>...</td>\n",
       "      <td>...</td>\n",
       "      <td>...</td>\n",
       "      <td>...</td>\n",
       "    </tr>\n",
       "    <tr>\n",
       "      <th>0xffddf</th>\n",
       "      <td>3</td>\n",
       "      <td>3</td>\n",
       "      <td>0</td>\n",
       "      <td>3</td>\n",
       "    </tr>\n",
       "    <tr>\n",
       "      <th>0xffe25</th>\n",
       "      <td>2</td>\n",
       "      <td>2</td>\n",
       "      <td>0</td>\n",
       "      <td>0</td>\n",
       "    </tr>\n",
       "    <tr>\n",
       "      <th>0xffec9</th>\n",
       "      <td>0</td>\n",
       "      <td>1</td>\n",
       "      <td>1</td>\n",
       "      <td>0</td>\n",
       "    </tr>\n",
       "    <tr>\n",
       "      <th>0xffedb</th>\n",
       "      <td>1</td>\n",
       "      <td>1</td>\n",
       "      <td>0</td>\n",
       "      <td>0</td>\n",
       "    </tr>\n",
       "    <tr>\n",
       "      <th>0xfffac</th>\n",
       "      <td>3</td>\n",
       "      <td>3</td>\n",
       "      <td>0</td>\n",
       "      <td>3</td>\n",
       "    </tr>\n",
       "  </tbody>\n",
       "</table>\n",
       "<p>100000 rows × 4 columns</p>\n",
       "</div>"
      ],
      "text/plain": [
       "           burger  fries  salad  shake\n",
       "ticket_id                             \n",
       "0x100048        0      3      3      0\n",
       "0x100057        1      1      0      0\n",
       "0x1000ba        1      2      1      1\n",
       "0x1000fb        4      5      1      4\n",
       "0x10016e        3      3      0      3\n",
       "...           ...    ...    ...    ...\n",
       "0xffddf         3      3      0      3\n",
       "0xffe25         2      2      0      0\n",
       "0xffec9         0      1      1      0\n",
       "0xffedb         1      1      0      0\n",
       "0xfffac         3      3      0      3\n",
       "\n",
       "[100000 rows x 4 columns]"
      ]
     },
     "execution_count": 40,
     "metadata": {},
     "output_type": "execute_result"
    }
   ],
   "source": [
    "pivot"
   ]
  },
  {
   "cell_type": "code",
   "execution_count": 65,
   "metadata": {},
   "outputs": [],
   "source": [
    "train,test = train_test_split(pivot,random_state=73,test_size=0.2)"
   ]
  },
  {
   "cell_type": "markdown",
   "metadata": {},
   "source": [
    "# Find K"
   ]
  },
  {
   "cell_type": "code",
   "execution_count": 66,
   "metadata": {},
   "outputs": [
    {
     "data": {
      "image/png": "[encoded data removed]",
      "text/plain": [
       "<Figure size 432x288 with 1 Axes>"
      ]
     },
     "metadata": {
      "needs_background": "light"
     },
     "output_type": "display_data"
    }
   ],
   "source": [
    "SSE = []\n",
    "for k in range(1, 11):\n",
    "    estimator = KMeans(n_clusters=k)\n",
    "    estimator.fit(train)\n",
    "    SSE.append(estimator.inertia_)\n",
    "X = range(1, 11)\n",
    "plt.xlabel('k')\n",
    "plt.ylabel('SSE')\n",
    "plt.plot(X, SSE, 'o-')\n",
    "plt.show()"
   ]
  },
  {
   "cell_type": "code",
   "execution_count": 67,
   "metadata": {},
   "outputs": [
    {
     "data": {
      "text/plain": [
       "[651841.3629624946,\n",
       " 246567.4193336376,\n",
       " 151607.1987880278,\n",
       " 115831.3258808351,\n",
       " 92685.60681830645,\n",
       " 77418.31962430364,\n",
       " 63164.27549329284,\n",
       " 55190.24179854796,\n",
       " 49376.53027788274,\n",
       " 42406.65528344244]"
      ]
     },
     "execution_count": 67,
     "metadata": {},
     "output_type": "execute_result"
    }
   ],
   "source": [
    "SSE"
   ]
  },
  {
   "cell_type": "markdown",
   "metadata": {},
   "source": [
    "set k = 3"
   ]
  },
  {
   "cell_type": "markdown",
   "metadata": {},
   "source": [
    "# Clustering"
   ]
  },
  {
   "cell_type": "code",
   "execution_count": 50,
   "metadata": {},
   "outputs": [
    {
     "data": {
      "text/plain": [
       "KMeans(n_clusters=3)"
      ]
     },
     "execution_count": 50,
     "metadata": {},
     "output_type": "execute_result"
    }
   ],
   "source": [
    "model = KMeans(n_clusters=3)\n",
    "model.fit(train)"
   ]
  },
  {
   "cell_type": "code",
   "execution_count": 51,
   "metadata": {},
   "outputs": [
    {
     "data": {
      "text/plain": [
       "array([[3.94001472, 4.08750409, 0.14748937, 3.37213772],\n",
       "       [1.21097132, 1.49169765, 0.28072633, 0.38302857],\n",
       "       [0.28701315, 2.88874555, 2.6017324 , 0.11119302]])"
      ]
     },
     "execution_count": 51,
     "metadata": {},
     "output_type": "execute_result"
    }
   ],
   "source": [
    "model.cluster_centers_"
   ]
  },
  {
   "cell_type": "code",
   "execution_count": 52,
   "metadata": {},
   "outputs": [],
   "source": [
    "train_labels = model.labels_\n",
    "test_labels = model.predict(test)"
   ]
  },
  {
   "cell_type": "markdown",
   "metadata": {},
   "source": [
    "# Output"
   ]
  },
  {
   "cell_type": "code",
   "execution_count": 60,
   "metadata": {},
   "outputs": [],
   "source": [
    "attribute = data.drop_duplicates(keep='first', subset=['ticket_id'])\n",
    "attribute = attribute.drop(columns=['item_name','item_count'])\n",
    "attribute.set_index('ticket_id',inplace=True)"
   ]
  },
  {
   "cell_type": "code",
   "execution_count": 80,
   "metadata": {},
   "outputs": [],
   "source": [
    "train_index = train.index\n",
    "train_labels = pd.DataFrame(train_labels,index=train_index)\n",
    "test_index = test.index\n",
    "test_labels = pd.DataFrame(test_labels,index=test_index)"
   ]
  },
  {
   "cell_type": "code",
   "execution_count": 81,
   "metadata": {},
   "outputs": [],
   "source": [
    "train_labels['train/test'] = 'Train'\n",
    "test_labels['train/test'] = 'Test'"
   ]
  },
  {
   "cell_type": "code",
   "execution_count": 82,
   "metadata": {},
   "outputs": [],
   "source": [
    "labels = pd.concat([train_labels,test_labels])\n",
    "labels.rename(columns={0:'label'},inplace=True)"
   ]
  },
  {
   "cell_type": "code",
   "execution_count": 83,
   "metadata": {},
   "outputs": [],
   "source": [
    "output = pd.merge(pivot,attribute,right_index=True,left_index=True,how='inner')\n",
    "output = pd.merge(output,labels,right_index=True,left_index=True,how='inner')"
   ]
  },
  {
   "cell_type": "code",
   "execution_count": 84,
   "metadata": {},
   "outputs": [
    {
     "data": {
      "text/html": [
       "<div>\n",
       "<style scoped>\n",
       "    .dataframe tbody tr th:only-of-type {\n",
       "        vertical-align: middle;\n",
       "    }\n",
       "\n",
       "    .dataframe tbody tr th {\n",
       "        vertical-align: top;\n",
       "    }\n",
       "\n",
       "    .dataframe thead th {\n",
       "        text-align: right;\n",
       "    }\n",
       "</style>\n",
       "<table border=\"1\" class=\"dataframe\">\n",
       "  <thead>\n",
       "    <tr style=\"text-align: right;\">\n",
       "      <th></th>\n",
       "      <th>burger</th>\n",
       "      <th>fries</th>\n",
       "      <th>salad</th>\n",
       "      <th>shake</th>\n",
       "      <th>order_timestamp</th>\n",
       "      <th>location</th>\n",
       "      <th>lat</th>\n",
       "      <th>long</th>\n",
       "      <th>label</th>\n",
       "      <th>train/test</th>\n",
       "    </tr>\n",
       "    <tr>\n",
       "      <th>ticket_id</th>\n",
       "      <th></th>\n",
       "      <th></th>\n",
       "      <th></th>\n",
       "      <th></th>\n",
       "      <th></th>\n",
       "      <th></th>\n",
       "      <th></th>\n",
       "      <th></th>\n",
       "      <th></th>\n",
       "      <th></th>\n",
       "    </tr>\n",
       "  </thead>\n",
       "  <tbody>\n",
       "    <tr>\n",
       "      <th>0x100048</th>\n",
       "      <td>0</td>\n",
       "      <td>3</td>\n",
       "      <td>3</td>\n",
       "      <td>0</td>\n",
       "      <td>2019-03-29 12:24:00</td>\n",
       "      <td>1</td>\n",
       "      <td>41.880844</td>\n",
       "      <td>-87.630524</td>\n",
       "      <td>2</td>\n",
       "      <td>Train</td>\n",
       "    </tr>\n",
       "    <tr>\n",
       "      <th>0x100057</th>\n",
       "      <td>1</td>\n",
       "      <td>1</td>\n",
       "      <td>0</td>\n",
       "      <td>0</td>\n",
       "      <td>2019-11-24 00:24:00</td>\n",
       "      <td>6</td>\n",
       "      <td>41.784576</td>\n",
       "      <td>-87.607565</td>\n",
       "      <td>1</td>\n",
       "      <td>Train</td>\n",
       "    </tr>\n",
       "    <tr>\n",
       "      <th>0x1000ba</th>\n",
       "      <td>1</td>\n",
       "      <td>2</td>\n",
       "      <td>1</td>\n",
       "      <td>1</td>\n",
       "      <td>2019-02-09 12:02:00</td>\n",
       "      <td>5</td>\n",
       "      <td>41.881818</td>\n",
       "      <td>-87.640234</td>\n",
       "      <td>1</td>\n",
       "      <td>Train</td>\n",
       "    </tr>\n",
       "    <tr>\n",
       "      <th>0x1000fb</th>\n",
       "      <td>4</td>\n",
       "      <td>5</td>\n",
       "      <td>1</td>\n",
       "      <td>4</td>\n",
       "      <td>2019-08-31 19:28:00</td>\n",
       "      <td>4</td>\n",
       "      <td>41.889047</td>\n",
       "      <td>-87.803605</td>\n",
       "      <td>0</td>\n",
       "      <td>Train</td>\n",
       "    </tr>\n",
       "    <tr>\n",
       "      <th>0x10016e</th>\n",
       "      <td>3</td>\n",
       "      <td>3</td>\n",
       "      <td>0</td>\n",
       "      <td>3</td>\n",
       "      <td>2019-09-13 17:07:00</td>\n",
       "      <td>7</td>\n",
       "      <td>41.794132</td>\n",
       "      <td>-88.010140</td>\n",
       "      <td>0</td>\n",
       "      <td>Train</td>\n",
       "    </tr>\n",
       "    <tr>\n",
       "      <th>...</th>\n",
       "      <td>...</td>\n",
       "      <td>...</td>\n",
       "      <td>...</td>\n",
       "      <td>...</td>\n",
       "      <td>...</td>\n",
       "      <td>...</td>\n",
       "      <td>...</td>\n",
       "      <td>...</td>\n",
       "      <td>...</td>\n",
       "      <td>...</td>\n",
       "    </tr>\n",
       "    <tr>\n",
       "      <th>0xffddf</th>\n",
       "      <td>3</td>\n",
       "      <td>3</td>\n",
       "      <td>0</td>\n",
       "      <td>3</td>\n",
       "      <td>2019-05-27 18:07:00</td>\n",
       "      <td>4</td>\n",
       "      <td>41.889047</td>\n",
       "      <td>-87.803605</td>\n",
       "      <td>0</td>\n",
       "      <td>Test</td>\n",
       "    </tr>\n",
       "    <tr>\n",
       "      <th>0xffe25</th>\n",
       "      <td>2</td>\n",
       "      <td>2</td>\n",
       "      <td>0</td>\n",
       "      <td>0</td>\n",
       "      <td>2019-12-16 00:30:00</td>\n",
       "      <td>6</td>\n",
       "      <td>41.784576</td>\n",
       "      <td>-87.607565</td>\n",
       "      <td>1</td>\n",
       "      <td>Test</td>\n",
       "    </tr>\n",
       "    <tr>\n",
       "      <th>0xffec9</th>\n",
       "      <td>0</td>\n",
       "      <td>1</td>\n",
       "      <td>1</td>\n",
       "      <td>0</td>\n",
       "      <td>2019-07-04 13:30:00</td>\n",
       "      <td>1</td>\n",
       "      <td>41.880844</td>\n",
       "      <td>-87.630524</td>\n",
       "      <td>1</td>\n",
       "      <td>Train</td>\n",
       "    </tr>\n",
       "    <tr>\n",
       "      <th>0xffedb</th>\n",
       "      <td>1</td>\n",
       "      <td>1</td>\n",
       "      <td>0</td>\n",
       "      <td>0</td>\n",
       "      <td>2019-01-25 00:53:00</td>\n",
       "      <td>2</td>\n",
       "      <td>42.049306</td>\n",
       "      <td>-87.677606</td>\n",
       "      <td>1</td>\n",
       "      <td>Train</td>\n",
       "    </tr>\n",
       "    <tr>\n",
       "      <th>0xfffac</th>\n",
       "      <td>3</td>\n",
       "      <td>3</td>\n",
       "      <td>0</td>\n",
       "      <td>3</td>\n",
       "      <td>2019-12-05 17:54:00</td>\n",
       "      <td>4</td>\n",
       "      <td>41.889047</td>\n",
       "      <td>-87.803605</td>\n",
       "      <td>0</td>\n",
       "      <td>Train</td>\n",
       "    </tr>\n",
       "  </tbody>\n",
       "</table>\n",
       "<p>100000 rows × 10 columns</p>\n",
       "</div>"
      ],
      "text/plain": [
       "           burger  fries  salad  shake      order_timestamp  location  \\\n",
       "ticket_id                                                               \n",
       "0x100048        0      3      3      0  2019-03-29 12:24:00         1   \n",
       "0x100057        1      1      0      0  2019-11-24 00:24:00         6   \n",
       "0x1000ba        1      2      1      1  2019-02-09 12:02:00         5   \n",
       "0x1000fb        4      5      1      4  2019-08-31 19:28:00         4   \n",
       "0x10016e        3      3      0      3  2019-09-13 17:07:00         7   \n",
       "...           ...    ...    ...    ...                  ...       ...   \n",
       "0xffddf         3      3      0      3  2019-05-27 18:07:00         4   \n",
       "0xffe25         2      2      0      0  2019-12-16 00:30:00         6   \n",
       "0xffec9         0      1      1      0  2019-07-04 13:30:00         1   \n",
       "0xffedb         1      1      0      0  2019-01-25 00:53:00         2   \n",
       "0xfffac         3      3      0      3  2019-12-05 17:54:00         4   \n",
       "\n",
       "                 lat       long  label train/test  \n",
       "ticket_id                                          \n",
       "0x100048   41.880844 -87.630524      2      Train  \n",
       "0x100057   41.784576 -87.607565      1      Train  \n",
       "0x1000ba   41.881818 -87.640234      1      Train  \n",
       "0x1000fb   41.889047 -87.803605      0      Train  \n",
       "0x10016e   41.794132 -88.010140      0      Train  \n",
       "...              ...        ...    ...        ...  \n",
       "0xffddf    41.889047 -87.803605      0       Test  \n",
       "0xffe25    41.784576 -87.607565      1       Test  \n",
       "0xffec9    41.880844 -87.630524      1      Train  \n",
       "0xffedb    42.049306 -87.677606      1      Train  \n",
       "0xfffac    41.889047 -87.803605      0      Train  \n",
       "\n",
       "[100000 rows x 10 columns]"
      ]
     },
     "execution_count": 84,
     "metadata": {},
     "output_type": "execute_result"
    }
   ],
   "source": [
    "output"
   ]
  },
  {
   "cell_type": "code",
   "execution_count": 85,
   "metadata": {},
   "outputs": [],
   "source": [
    "output.to_csv('output.csv')"
   ]
  },
  {
   "cell_type": "code",
   "execution_count": null,
   "metadata": {},
   "outputs": [],
   "source": []
  }
 ],
 "metadata": {
  "kernelspec": {
   "display_name": "Python 3",
   "language": "python",
   "name": "python3"
  },
  "language_info": {
   "codemirror_mode": {
    "name": "ipython",
    "version": 3
   },
   "file_extension": ".py",
   "mimetype": "text/x-python",
   "name": "python",
   "nbconvert_exporter": "python",
   "pygments_lexer": "ipython3",
   "version": "3.8.8"
  }
 },
 "nbformat": 4,
 "nbformat_minor": 4
}
